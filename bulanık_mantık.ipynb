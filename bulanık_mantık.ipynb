{
  "nbformat": 4,
  "nbformat_minor": 0,
  "metadata": {
    "colab": {
      "name": "bulanık_mantık.ipynb",
      "provenance": []
    },
    "kernelspec": {
      "name": "python3",
      "display_name": "Python 3"
    },
    "language_info": {
      "name": "python"
    }
  },
  "cells": [
    {
      "cell_type": "code",
      "source": [
        "pip install scikit-fuzzy"
      ],
      "metadata": {
        "colab": {
          "base_uri": "https://localhost:8080/"
        },
        "id": "h0sPOqZQ2XNE",
        "outputId": "09647468-4f9c-4279-ce1d-b5d4bafcd31a"
      },
      "execution_count": null,
      "outputs": [
        {
          "output_type": "stream",
          "name": "stdout",
          "text": [
            "Requirement already satisfied: scikit-fuzzy in /usr/local/lib/python3.7/dist-packages (0.4.2)\n",
            "Requirement already satisfied: numpy>=1.6.0 in /usr/local/lib/python3.7/dist-packages (from scikit-fuzzy) (1.21.6)\n",
            "Requirement already satisfied: scipy>=0.9.0 in /usr/local/lib/python3.7/dist-packages (from scikit-fuzzy) (1.4.1)\n",
            "Requirement already satisfied: networkx>=1.9.0 in /usr/local/lib/python3.7/dist-packages (from scikit-fuzzy) (2.6.3)\n"
          ]
        }
      ]
    },
    {
      "cell_type": "code",
      "source": [
        "import numpy as mat\n",
        "import skfuzzy as bulanik\n",
        "from skfuzzy import control as kontrol"
      ],
      "metadata": {
        "id": "lMmk9TWj2jme"
      },
      "execution_count": null,
      "outputs": []
    },
    {
      "cell_type": "markdown",
      "source": [
        "#Bulanık mantık kontrol sistemlerinde giriş ve çıkış parametrelerin belirlenmesi"
      ],
      "metadata": {
        "id": "SX3NyHA14a5n"
      }
    },
    {
      "cell_type": "code",
      "source": [
        "bulasik_miktari = kontrol.Antecedent(mat.arange(0,100,1),'bulaşık miktarı')"
      ],
      "metadata": {
        "id": "d4-GxWi82_5O"
      },
      "execution_count": null,
      "outputs": []
    },
    {
      "cell_type": "code",
      "source": [
        "kirlilik = kontrol.Antecedent(mat.arange(0,100,1),'kirlilik seviyesi')"
      ],
      "metadata": {
        "id": "m7auHQYG4COF"
      },
      "execution_count": null,
      "outputs": []
    },
    {
      "cell_type": "code",
      "source": [
        "yikama = kontrol.Consequent(mat.arange(0,180,1),'yıkama zamanı')"
      ],
      "metadata": {
        "id": "OiL132D_4RGy"
      },
      "execution_count": null,
      "outputs": []
    },
    {
      "cell_type": "markdown",
      "source": [
        "“trimf” komutu kullanarak giriş parametreleri olan bulaşık miktarı ve kirlilik derecesini “az”,\n",
        "“normal”, “çok” ve çıkış parametresi olan yıkama süresini de “kısa”, “normal”, “uzun”\n",
        "şeklinde sisteme tanıtır."
      ],
      "metadata": {
        "id": "y56c7wzU5aKU"
      }
    },
    {
      "cell_type": "code",
      "source": [
        "bulasik_miktari['az'] = bulanik.trimf(bulasik_miktari.universe, [0, 0, 30])\n",
        "bulasik_miktari['normal'] = bulanik.trimf(bulasik_miktari.universe, [10, 30, 60])\n",
        "bulasik_miktari['çok'] = bulanik.trimf(bulasik_miktari.universe, [50, 60, 100])"
      ],
      "metadata": {
        "id": "PROqms-X5a-0"
      },
      "execution_count": null,
      "outputs": []
    },
    {
      "cell_type": "code",
      "source": [
        "kirlilik['az'] = bulanik.trimf(kirlilik.universe, [0, 0, 30])\n",
        "kirlilik['normal'] = bulanik.trimf(kirlilik.universe, [10, 30, 60])\n",
        "kirlilik['çok'] = bulanik.trimf(kirlilik.universe, [50, 60, 100])"
      ],
      "metadata": {
        "id": "H3VHQ5yY55De"
      },
      "execution_count": null,
      "outputs": []
    },
    {
      "cell_type": "code",
      "source": [
        "yikama['kisa'] = bulanik.trimf(yikama.universe, [0, 0, 50])\n",
        "yikama['normal'] = bulanik.trimf(yikama.universe, [40, 50, 100])\n",
        "yikama['uzun'] = bulanik.trimf(yikama.universe, [60, 80, 180])"
      ],
      "metadata": {
        "id": "kDLBOuXx6CO0"
      },
      "execution_count": null,
      "outputs": []
    },
    {
      "cell_type": "code",
      "source": [
        "kural1 = kontrol.Rule(bulasik_miktari['az'] & kirlilik['az'], yikama['kisa'])\n",
        "kural2 = kontrol.Rule(bulasik_miktari['normal'] & kirlilik['az'], yikama['normal'])\n",
        "kural3 = kontrol.Rule(bulasik_miktari['çok'] & kirlilik['az'], yikama['normal'])\n",
        "kural4 = kontrol.Rule(bulasik_miktari['az'] & kirlilik['normal'], yikama['normal'])\n",
        "kural5 = kontrol.Rule(bulasik_miktari['normal'] & kirlilik['normal'], yikama['uzun'])\n",
        "kural6 = kontrol.Rule(bulasik_miktari['çok'] & kirlilik['normal'], yikama['uzun'])\n",
        "kural7 = kontrol.Rule(bulasik_miktari['az'] & kirlilik['çok'], yikama['normal'])\n",
        "kural8 = kontrol.Rule(bulasik_miktari['normal'] & kirlilik['çok'], yikama['uzun'])\n",
        "kural9 = kontrol.Rule(bulasik_miktari['çok'] & kirlilik['çok'], yikama['uzun'])"
      ],
      "metadata": {
        "id": "3WK-QMm37AaJ"
      },
      "execution_count": null,
      "outputs": []
    },
    {
      "cell_type": "code",
      "source": [
        "sonuc = kontrol.ControlSystem([kural1,kural2,kural3,kural4,kural5,kural6,kural7,kural8,kural9])"
      ],
      "metadata": {
        "id": "xB_aSUQ88Vy5"
      },
      "execution_count": null,
      "outputs": []
    },
    {
      "cell_type": "code",
      "source": [
        "model_sonuc = kontrol.ControlSystemSimulation(sonuc)"
      ],
      "metadata": {
        "id": "U59qC1dH8xfv"
      },
      "execution_count": null,
      "outputs": []
    },
    {
      "cell_type": "code",
      "source": [
        "model_sonuc.input['bulaşık miktarı'] = 50\n",
        "model_sonuc.input['kirlilik seviyesi'] = 80\n",
        "model_sonuc.compute()"
      ],
      "metadata": {
        "id": "9VHq1HTa8-MB"
      },
      "execution_count": null,
      "outputs": []
    },
    {
      "cell_type": "code",
      "source": [
        "print(model_sonuc.output['yıkama zamanı'])"
      ],
      "metadata": {
        "colab": {
          "base_uri": "https://localhost:8080/"
        },
        "id": "B0Hn_J9P9ngp",
        "outputId": "081d7ed4-7c5d-4373-a746-583145bdb8ac"
      },
      "execution_count": null,
      "outputs": [
        {
          "output_type": "stream",
          "name": "stdout",
          "text": [
            "113.76794296922321\n"
          ]
        }
      ]
    },
    {
      "cell_type": "code",
      "source": [
        ""
      ],
      "metadata": {
        "id": "0V3RtM9W912U"
      },
      "execution_count": null,
      "outputs": []
    }
  ]
}